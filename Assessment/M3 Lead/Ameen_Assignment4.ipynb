{
 "cells": [
  {
   "cell_type": "markdown",
   "id": "3f315045",
   "metadata": {},
   "source": [
    "# REGRESSION MODEL"
   ]
  },
  {
   "cell_type": "markdown",
   "id": "f5014461",
   "metadata": {},
   "source": [
    "## Importing the packages"
   ]
  },
  {
   "cell_type": "code",
   "execution_count": 1,
   "id": "22066f74",
   "metadata": {},
   "outputs": [],
   "source": [
    "import numpy as np\n",
    "import pandas as pd\n",
    "import matplotlib.pyplot as plt\n",
    "import seaborn as sns\n",
    "%matplotlib inline"
   ]
  },
  {
   "cell_type": "markdown",
   "id": "d77ea487",
   "metadata": {},
   "source": [
    "## Loading the dataset"
   ]
  },
  {
   "cell_type": "code",
   "execution_count": 2,
   "id": "6ede9389",
   "metadata": {},
   "outputs": [],
   "source": [
    "df = pd.read_csv(\"Mall_Customers.csv\")"
   ]
  },
  {
   "cell_type": "code",
   "execution_count": 3,
   "id": "422266ac",
   "metadata": {},
   "outputs": [
    {
     "data": {
      "text/html": [
       "<div>\n",
       "<style scoped>\n",
       "    .dataframe tbody tr th:only-of-type {\n",
       "        vertical-align: middle;\n",
       "    }\n",
       "\n",
       "    .dataframe tbody tr th {\n",
       "        vertical-align: top;\n",
       "    }\n",
       "\n",
       "    .dataframe thead th {\n",
       "        text-align: right;\n",
       "    }\n",
       "</style>\n",
       "<table border=\"1\" class=\"dataframe\">\n",
       "  <thead>\n",
       "    <tr style=\"text-align: right;\">\n",
       "      <th></th>\n",
       "      <th>CustomerID</th>\n",
       "      <th>Gender</th>\n",
       "      <th>Age</th>\n",
       "      <th>Annual Income (k$)</th>\n",
       "      <th>Spending Score (1-100)</th>\n",
       "    </tr>\n",
       "  </thead>\n",
       "  <tbody>\n",
       "    <tr>\n",
       "      <th>0</th>\n",
       "      <td>1</td>\n",
       "      <td>Male</td>\n",
       "      <td>19</td>\n",
       "      <td>15</td>\n",
       "      <td>39</td>\n",
       "    </tr>\n",
       "    <tr>\n",
       "      <th>1</th>\n",
       "      <td>2</td>\n",
       "      <td>Male</td>\n",
       "      <td>21</td>\n",
       "      <td>15</td>\n",
       "      <td>81</td>\n",
       "    </tr>\n",
       "    <tr>\n",
       "      <th>2</th>\n",
       "      <td>3</td>\n",
       "      <td>Female</td>\n",
       "      <td>20</td>\n",
       "      <td>16</td>\n",
       "      <td>6</td>\n",
       "    </tr>\n",
       "    <tr>\n",
       "      <th>3</th>\n",
       "      <td>4</td>\n",
       "      <td>Female</td>\n",
       "      <td>23</td>\n",
       "      <td>16</td>\n",
       "      <td>77</td>\n",
       "    </tr>\n",
       "    <tr>\n",
       "      <th>4</th>\n",
       "      <td>5</td>\n",
       "      <td>Female</td>\n",
       "      <td>31</td>\n",
       "      <td>17</td>\n",
       "      <td>40</td>\n",
       "    </tr>\n",
       "  </tbody>\n",
       "</table>\n",
       "</div>"
      ],
      "text/plain": [
       "   CustomerID  Gender  Age  Annual Income (k$)  Spending Score (1-100)\n",
       "0           1    Male   19                  15                      39\n",
       "1           2    Male   21                  15                      81\n",
       "2           3  Female   20                  16                       6\n",
       "3           4  Female   23                  16                      77\n",
       "4           5  Female   31                  17                      40"
      ]
     },
     "execution_count": 3,
     "metadata": {},
     "output_type": "execute_result"
    }
   ],
   "source": [
    "df.head()"
   ]
  },
  {
   "cell_type": "code",
   "execution_count": 4,
   "id": "85d6f6d5",
   "metadata": {},
   "outputs": [],
   "source": [
    "df.rename(columns = {'Annual Income (k$)':'Annual Income','Spending Score (1-100)':'Spending Score'}, inplace = True)\n",
    "df.drop('CustomerID', axis = 1, inplace = True)"
   ]
  },
  {
   "cell_type": "code",
   "execution_count": 5,
   "id": "12b5546c",
   "metadata": {},
   "outputs": [
    {
     "data": {
      "text/html": [
       "<div>\n",
       "<style scoped>\n",
       "    .dataframe tbody tr th:only-of-type {\n",
       "        vertical-align: middle;\n",
       "    }\n",
       "\n",
       "    .dataframe tbody tr th {\n",
       "        vertical-align: top;\n",
       "    }\n",
       "\n",
       "    .dataframe thead th {\n",
       "        text-align: right;\n",
       "    }\n",
       "</style>\n",
       "<table border=\"1\" class=\"dataframe\">\n",
       "  <thead>\n",
       "    <tr style=\"text-align: right;\">\n",
       "      <th></th>\n",
       "      <th>Gender</th>\n",
       "      <th>Age</th>\n",
       "      <th>Annual Income</th>\n",
       "      <th>Spending Score</th>\n",
       "    </tr>\n",
       "  </thead>\n",
       "  <tbody>\n",
       "    <tr>\n",
       "      <th>0</th>\n",
       "      <td>Male</td>\n",
       "      <td>19</td>\n",
       "      <td>15</td>\n",
       "      <td>39</td>\n",
       "    </tr>\n",
       "    <tr>\n",
       "      <th>1</th>\n",
       "      <td>Male</td>\n",
       "      <td>21</td>\n",
       "      <td>15</td>\n",
       "      <td>81</td>\n",
       "    </tr>\n",
       "    <tr>\n",
       "      <th>2</th>\n",
       "      <td>Female</td>\n",
       "      <td>20</td>\n",
       "      <td>16</td>\n",
       "      <td>6</td>\n",
       "    </tr>\n",
       "    <tr>\n",
       "      <th>3</th>\n",
       "      <td>Female</td>\n",
       "      <td>23</td>\n",
       "      <td>16</td>\n",
       "      <td>77</td>\n",
       "    </tr>\n",
       "    <tr>\n",
       "      <th>4</th>\n",
       "      <td>Female</td>\n",
       "      <td>31</td>\n",
       "      <td>17</td>\n",
       "      <td>40</td>\n",
       "    </tr>\n",
       "  </tbody>\n",
       "</table>\n",
       "</div>"
      ],
      "text/plain": [
       "   Gender  Age  Annual Income  Spending Score\n",
       "0    Male   19             15              39\n",
       "1    Male   21             15              81\n",
       "2  Female   20             16               6\n",
       "3  Female   23             16              77\n",
       "4  Female   31             17              40"
      ]
     },
     "execution_count": 5,
     "metadata": {},
     "output_type": "execute_result"
    }
   ],
   "source": [
    "df.head()"
   ]
  },
  {
   "cell_type": "markdown",
   "id": "2b840def",
   "metadata": {},
   "source": [
    "## Visualization"
   ]
  },
  {
   "cell_type": "markdown",
   "id": "43d7e140",
   "metadata": {},
   "source": [
    "## Univariate Analysis"
   ]
  },
  {
   "cell_type": "code",
   "execution_count": 6,
   "id": "9fbf1674",
   "metadata": {},
   "outputs": [
    {
     "data": {
      "text/plain": [
       "<AxesSubplot:xlabel='Gender', ylabel='count'>"
      ]
     },
     "execution_count": 6,
     "metadata": {},
     "output_type": "execute_result"
    },
    {
     "data": {
      "image/png": "[encoded data removed]",
      "text/plain": [
       "<Figure size 432x288 with 1 Axes>"
      ]
     },
     "metadata": {
      "needs_background": "light"
     },
     "output_type": "display_data"
    }
   ],
   "source": [
    "sns.countplot(x = 'Gender', data =df )"
   ]
  },
  {
   "cell_type": "code",
   "execution_count": 7,
   "id": "2c3aade6",
   "metadata": {},
   "outputs": [
    {
     "data": {
      "text/plain": [
       "<AxesSubplot:xlabel='Count', ylabel='Age'>"
      ]
     },
     "execution_count": 7,
     "metadata": {},
     "output_type": "execute_result"
    },
    {
     "data": {
      "image/png": "[encoded data removed]",
      "text/plain": [
       "<Figure size 432x288 with 1 Axes>"
      ]
     },
     "metadata": {
      "needs_background": "light"
     },
     "output_type": "display_data"
    }
   ],
   "source": [
    "sns.histplot(y = 'Age', data = df, bins = 15)"
   ]
  },
  {
   "cell_type": "markdown",
   "id": "b2c5ea29",
   "metadata": {},
   "source": [
    "## Bi-Variate Analysis"
   ]
  },
  {
   "cell_type": "code",
   "execution_count": 8,
   "id": "8030d0a1",
   "metadata": {},
   "outputs": [
    {
     "data": {
      "text/plain": [
       "<AxesSubplot:xlabel='Age', ylabel='Annual Income'>"
      ]
     },
     "execution_count": 8,
     "metadata": {},
     "output_type": "execute_result"
    },
    {
     "data": {
      "image/png": "[encoded data removed]",
      "text/plain": [
       "<Figure size 432x288 with 1 Axes>"
      ]
     },
     "metadata": {
      "needs_background": "light"
     },
     "output_type": "display_data"
    }
   ],
   "source": [
    "sns.lineplot(x = 'Age', y = 'Annual Income', data = df)"
   ]
  },
  {
   "cell_type": "code",
   "execution_count": 9,
   "id": "8a5fa0be",
   "metadata": {},
   "outputs": [
    {
     "data": {
      "text/plain": [
       "<AxesSubplot:xlabel='Age', ylabel='Spending Score'>"
      ]
     },
     "execution_count": 9,
     "metadata": {},
     "output_type": "execute_result"
    },
    {
     "data": {
      "image/png": "[encoded data removed]",
      "text/plain": [
       "<Figure size 432x288 with 1 Axes>"
      ]
     },
     "metadata": {
      "needs_background": "light"
     },
     "output_type": "display_data"
    }
   ],
   "source": [
    "sns.scatterplot(x = 'Age', y ='Spending Score', data = df)"
   ]
  },
  {
   "cell_type": "markdown",
   "id": "28cad61e",
   "metadata": {},
   "source": [
    "## Multi-Variate Analysis"
   ]
  },
  {
   "cell_type": "code",
   "execution_count": 10,
   "id": "94085d9b",
   "metadata": {},
   "outputs": [
    {
     "data": {
      "text/plain": [
       "<AxesSubplot:>"
      ]
     },
     "execution_count": 10,
     "metadata": {},
     "output_type": "execute_result"
    },
    {
     "data": {
      "image/png": "[encoded data removed]",
      "text/plain": [
       "<Figure size 432x288 with 2 Axes>"
      ]
     },
     "metadata": {
      "needs_background": "light"
     },
     "output_type": "display_data"
    }
   ],
   "source": [
    "sns.heatmap(df.corr())"
   ]
  },
  {
   "cell_type": "code",
   "execution_count": 11,
   "id": "0e3b300d",
   "metadata": {},
   "outputs": [
    {
     "data": {
      "text/plain": [
       "(<AxesSubplot:xlabel='Age', ylabel='Spending Score'>,)"
      ]
     },
     "execution_count": 11,
     "metadata": {},
     "output_type": "execute_result"
    },
    {
     "data": {
      "image/png": "[encoded data removed]",
      "text/plain": [
       "<Figure size 432x288 with 1 Axes>"
      ]
     },
     "metadata": {
      "needs_background": "light"
     },
     "output_type": "display_data"
    }
   ],
   "source": [
    "sns.scatterplot(x = 'Age', y ='Spending Score', hue = 'Gender', data = df),"
   ]
  },
  {
   "cell_type": "markdown",
   "id": "21e59113",
   "metadata": {},
   "source": [
    "## Descriptive Statistics"
   ]
  },
  {
   "cell_type": "code",
   "execution_count": 12,
   "id": "1ccc3d7c",
   "metadata": {},
   "outputs": [
    {
     "data": {
      "text/html": [
       "<div>\n",
       "<style scoped>\n",
       "    .dataframe tbody tr th:only-of-type {\n",
       "        vertical-align: middle;\n",
       "    }\n",
       "\n",
       "    .dataframe tbody tr th {\n",
       "        vertical-align: top;\n",
       "    }\n",
       "\n",
       "    .dataframe thead th {\n",
       "        text-align: right;\n",
       "    }\n",
       "</style>\n",
       "<table border=\"1\" class=\"dataframe\">\n",
       "  <thead>\n",
       "    <tr style=\"text-align: right;\">\n",
       "      <th></th>\n",
       "      <th>Gender</th>\n",
       "      <th>Age</th>\n",
       "      <th>Annual Income</th>\n",
       "      <th>Spending Score</th>\n",
       "    </tr>\n",
       "  </thead>\n",
       "  <tbody>\n",
       "    <tr>\n",
       "      <th>count</th>\n",
       "      <td>200</td>\n",
       "      <td>200.000000</td>\n",
       "      <td>200.000000</td>\n",
       "      <td>200.000000</td>\n",
       "    </tr>\n",
       "    <tr>\n",
       "      <th>unique</th>\n",
       "      <td>2</td>\n",
       "      <td>NaN</td>\n",
       "      <td>NaN</td>\n",
       "      <td>NaN</td>\n",
       "    </tr>\n",
       "    <tr>\n",
       "      <th>top</th>\n",
       "      <td>Female</td>\n",
       "      <td>NaN</td>\n",
       "      <td>NaN</td>\n",
       "      <td>NaN</td>\n",
       "    </tr>\n",
       "    <tr>\n",
       "      <th>freq</th>\n",
       "      <td>112</td>\n",
       "      <td>NaN</td>\n",
       "      <td>NaN</td>\n",
       "      <td>NaN</td>\n",
       "    </tr>\n",
       "    <tr>\n",
       "      <th>mean</th>\n",
       "      <td>NaN</td>\n",
       "      <td>38.850000</td>\n",
       "      <td>60.560000</td>\n",
       "      <td>50.200000</td>\n",
       "    </tr>\n",
       "    <tr>\n",
       "      <th>std</th>\n",
       "      <td>NaN</td>\n",
       "      <td>13.969007</td>\n",
       "      <td>26.264721</td>\n",
       "      <td>25.823522</td>\n",
       "    </tr>\n",
       "    <tr>\n",
       "      <th>min</th>\n",
       "      <td>NaN</td>\n",
       "      <td>18.000000</td>\n",
       "      <td>15.000000</td>\n",
       "      <td>1.000000</td>\n",
       "    </tr>\n",
       "    <tr>\n",
       "      <th>25%</th>\n",
       "      <td>NaN</td>\n",
       "      <td>28.750000</td>\n",
       "      <td>41.500000</td>\n",
       "      <td>34.750000</td>\n",
       "    </tr>\n",
       "    <tr>\n",
       "      <th>50%</th>\n",
       "      <td>NaN</td>\n",
       "      <td>36.000000</td>\n",
       "      <td>61.500000</td>\n",
       "      <td>50.000000</td>\n",
       "    </tr>\n",
       "    <tr>\n",
       "      <th>75%</th>\n",
       "      <td>NaN</td>\n",
       "      <td>49.000000</td>\n",
       "      <td>78.000000</td>\n",
       "      <td>73.000000</td>\n",
       "    </tr>\n",
       "    <tr>\n",
       "      <th>max</th>\n",
       "      <td>NaN</td>\n",
       "      <td>70.000000</td>\n",
       "      <td>137.000000</td>\n",
       "      <td>99.000000</td>\n",
       "    </tr>\n",
       "  </tbody>\n",
       "</table>\n",
       "</div>"
      ],
      "text/plain": [
       "        Gender         Age  Annual Income  Spending Score\n",
       "count      200  200.000000     200.000000      200.000000\n",
       "unique       2         NaN            NaN             NaN\n",
       "top     Female         NaN            NaN             NaN\n",
       "freq       112         NaN            NaN             NaN\n",
       "mean       NaN   38.850000      60.560000       50.200000\n",
       "std        NaN   13.969007      26.264721       25.823522\n",
       "min        NaN   18.000000      15.000000        1.000000\n",
       "25%        NaN   28.750000      41.500000       34.750000\n",
       "50%        NaN   36.000000      61.500000       50.000000\n",
       "75%        NaN   49.000000      78.000000       73.000000\n",
       "max        NaN   70.000000     137.000000       99.000000"
      ]
     },
     "execution_count": 12,
     "metadata": {},
     "output_type": "execute_result"
    }
   ],
   "source": [
    "df.describe(include = 'all')"
   ]
  },
  {
   "cell_type": "code",
   "execution_count": 13,
   "id": "76c9cc01",
   "metadata": {},
   "outputs": [
    {
     "name": "stderr",
     "output_type": "stream",
     "text": [
      "C:\\Users\\USER\\AppData\\Local\\Temp\\ipykernel_9956\\3698961737.py:1: FutureWarning: Dropping of nuisance columns in DataFrame reductions (with 'numeric_only=None') is deprecated; in a future version this will raise TypeError.  Select only valid columns before calling the reduction.\n",
      "  df.mean()\n"
     ]
    },
    {
     "data": {
      "text/plain": [
       "Age               38.85\n",
       "Annual Income     60.56\n",
       "Spending Score    50.20\n",
       "dtype: float64"
      ]
     },
     "execution_count": 13,
     "metadata": {},
     "output_type": "execute_result"
    }
   ],
   "source": [
    "df.mean()"
   ]
  },
  {
   "cell_type": "code",
   "execution_count": 14,
   "id": "6733fdeb",
   "metadata": {},
   "outputs": [
    {
     "name": "stderr",
     "output_type": "stream",
     "text": [
      "C:\\Users\\USER\\AppData\\Local\\Temp\\ipykernel_9956\\530051474.py:1: FutureWarning: Dropping of nuisance columns in DataFrame reductions (with 'numeric_only=None') is deprecated; in a future version this will raise TypeError.  Select only valid columns before calling the reduction.\n",
      "  df.median()\n"
     ]
    },
    {
     "data": {
      "text/plain": [
       "Age               36.0\n",
       "Annual Income     61.5\n",
       "Spending Score    50.0\n",
       "dtype: float64"
      ]
     },
     "execution_count": 14,
     "metadata": {},
     "output_type": "execute_result"
    }
   ],
   "source": [
    "df.median()"
   ]
  },
  {
   "cell_type": "code",
   "execution_count": 15,
   "id": "32504a0a",
   "metadata": {},
   "outputs": [
    {
     "data": {
      "text/html": [
       "<div>\n",
       "<style scoped>\n",
       "    .dataframe tbody tr th:only-of-type {\n",
       "        vertical-align: middle;\n",
       "    }\n",
       "\n",
       "    .dataframe tbody tr th {\n",
       "        vertical-align: top;\n",
       "    }\n",
       "\n",
       "    .dataframe thead th {\n",
       "        text-align: right;\n",
       "    }\n",
       "</style>\n",
       "<table border=\"1\" class=\"dataframe\">\n",
       "  <thead>\n",
       "    <tr style=\"text-align: right;\">\n",
       "      <th></th>\n",
       "      <th>Gender</th>\n",
       "      <th>Age</th>\n",
       "      <th>Annual Income</th>\n",
       "      <th>Spending Score</th>\n",
       "    </tr>\n",
       "  </thead>\n",
       "  <tbody>\n",
       "    <tr>\n",
       "      <th>0</th>\n",
       "      <td>Female</td>\n",
       "      <td>32.0</td>\n",
       "      <td>54</td>\n",
       "      <td>42.0</td>\n",
       "    </tr>\n",
       "  </tbody>\n",
       "</table>\n",
       "</div>"
      ],
      "text/plain": [
       "   Gender   Age  Annual Income  Spending Score\n",
       "0  Female  32.0             54            42.0"
      ]
     },
     "execution_count": 15,
     "metadata": {},
     "output_type": "execute_result"
    }
   ],
   "source": [
    "df.mode().head(1)"
   ]
  },
  {
   "cell_type": "code",
   "execution_count": 16,
   "id": "7836cd36",
   "metadata": {},
   "outputs": [
    {
     "name": "stderr",
     "output_type": "stream",
     "text": [
      "C:\\Users\\USER\\AppData\\Local\\Temp\\ipykernel_9956\\3390915376.py:1: FutureWarning: Dropping of nuisance columns in DataFrame reductions (with 'numeric_only=None') is deprecated; in a future version this will raise TypeError.  Select only valid columns before calling the reduction.\n",
      "  df.std()\n"
     ]
    },
    {
     "data": {
      "text/plain": [
       "Age               13.969007\n",
       "Annual Income     26.264721\n",
       "Spending Score    25.823522\n",
       "dtype: float64"
      ]
     },
     "execution_count": 16,
     "metadata": {},
     "output_type": "execute_result"
    }
   ],
   "source": [
    "df.std()"
   ]
  },
  {
   "cell_type": "code",
   "execution_count": 17,
   "id": "23b4ccf2",
   "metadata": {},
   "outputs": [
    {
     "name": "stderr",
     "output_type": "stream",
     "text": [
      "C:\\Users\\USER\\AppData\\Local\\Temp\\ipykernel_9956\\1568254755.py:1: FutureWarning: Dropping of nuisance columns in DataFrame reductions (with 'numeric_only=None') is deprecated; in a future version this will raise TypeError.  Select only valid columns before calling the reduction.\n",
      "  df.var()\n"
     ]
    },
    {
     "data": {
      "text/plain": [
       "Age               195.133166\n",
       "Annual Income     689.835578\n",
       "Spending Score    666.854271\n",
       "dtype: float64"
      ]
     },
     "execution_count": 17,
     "metadata": {},
     "output_type": "execute_result"
    }
   ],
   "source": [
    "df.var()"
   ]
  },
  {
   "cell_type": "markdown",
   "id": "4130de20",
   "metadata": {},
   "source": [
    "## Handing Missing Values"
   ]
  },
  {
   "cell_type": "code",
   "execution_count": 18,
   "id": "af3347de",
   "metadata": {},
   "outputs": [
    {
     "data": {
      "text/plain": [
       "Gender            0\n",
       "Age               0\n",
       "Annual Income     0\n",
       "Spending Score    0\n",
       "dtype: int64"
      ]
     },
     "execution_count": 18,
     "metadata": {},
     "output_type": "execute_result"
    }
   ],
   "source": [
    "df.isnull().sum()"
   ]
  },
  {
   "cell_type": "markdown",
   "id": "2b130bc7",
   "metadata": {},
   "source": [
    "## Finding Outliers"
   ]
  },
  {
   "cell_type": "code",
   "execution_count": 19,
   "id": "43d04f43",
   "metadata": {},
   "outputs": [
    {
     "data": {
      "text/plain": [
       "<AxesSubplot:>"
      ]
     },
     "execution_count": 19,
     "metadata": {},
     "output_type": "execute_result"
    },
    {
     "data": {
      "image/png": "[encoded data removed]",
      "text/plain": [
       "<Figure size 432x288 with 1 Axes>"
      ]
     },
     "metadata": {
      "needs_background": "light"
     },
     "output_type": "display_data"
    }
   ],
   "source": [
    "df.boxplot()"
   ]
  },
  {
   "cell_type": "markdown",
   "id": "23fefbcc",
   "metadata": {},
   "source": [
    "## Outlier is present only in the Annual Income Column"
   ]
  },
  {
   "cell_type": "code",
   "execution_count": 20,
   "id": "4546ca26",
   "metadata": {},
   "outputs": [],
   "source": [
    "df = df.drop(df[df['Annual Income'] > 127].index)"
   ]
  },
  {
   "cell_type": "code",
   "execution_count": 21,
   "id": "f001693e",
   "metadata": {},
   "outputs": [
    {
     "data": {
      "text/html": [
       "<div>\n",
       "<style scoped>\n",
       "    .dataframe tbody tr th:only-of-type {\n",
       "        vertical-align: middle;\n",
       "    }\n",
       "\n",
       "    .dataframe tbody tr th {\n",
       "        vertical-align: top;\n",
       "    }\n",
       "\n",
       "    .dataframe thead th {\n",
       "        text-align: right;\n",
       "    }\n",
       "</style>\n",
       "<table border=\"1\" class=\"dataframe\">\n",
       "  <thead>\n",
       "    <tr style=\"text-align: right;\">\n",
       "      <th></th>\n",
       "      <th>Gender</th>\n",
       "      <th>Age</th>\n",
       "      <th>Annual Income</th>\n",
       "      <th>Spending Score</th>\n",
       "    </tr>\n",
       "  </thead>\n",
       "  <tbody>\n",
       "    <tr>\n",
       "      <th>0</th>\n",
       "      <td>Male</td>\n",
       "      <td>19</td>\n",
       "      <td>15</td>\n",
       "      <td>39</td>\n",
       "    </tr>\n",
       "    <tr>\n",
       "      <th>1</th>\n",
       "      <td>Male</td>\n",
       "      <td>21</td>\n",
       "      <td>15</td>\n",
       "      <td>81</td>\n",
       "    </tr>\n",
       "    <tr>\n",
       "      <th>2</th>\n",
       "      <td>Female</td>\n",
       "      <td>20</td>\n",
       "      <td>16</td>\n",
       "      <td>6</td>\n",
       "    </tr>\n",
       "    <tr>\n",
       "      <th>3</th>\n",
       "      <td>Female</td>\n",
       "      <td>23</td>\n",
       "      <td>16</td>\n",
       "      <td>77</td>\n",
       "    </tr>\n",
       "    <tr>\n",
       "      <th>4</th>\n",
       "      <td>Female</td>\n",
       "      <td>31</td>\n",
       "      <td>17</td>\n",
       "      <td>40</td>\n",
       "    </tr>\n",
       "  </tbody>\n",
       "</table>\n",
       "</div>"
      ],
      "text/plain": [
       "   Gender  Age  Annual Income  Spending Score\n",
       "0    Male   19             15              39\n",
       "1    Male   21             15              81\n",
       "2  Female   20             16               6\n",
       "3  Female   23             16              77\n",
       "4  Female   31             17              40"
      ]
     },
     "execution_count": 21,
     "metadata": {},
     "output_type": "execute_result"
    }
   ],
   "source": [
    "df.head()"
   ]
  },
  {
   "cell_type": "code",
   "execution_count": 22,
   "id": "5c459d92",
   "metadata": {},
   "outputs": [
    {
     "data": {
      "text/plain": [
       "<AxesSubplot:>"
      ]
     },
     "execution_count": 22,
     "metadata": {},
     "output_type": "execute_result"
    },
    {
     "data": {
      "image/png": "[encoded data removed]",
      "text/plain": [
       "<Figure size 432x288 with 1 Axes>"
      ]
     },
     "metadata": {
      "needs_background": "light"
     },
     "output_type": "display_data"
    }
   ],
   "source": [
    "df.boxplot()"
   ]
  },
  {
   "cell_type": "code",
   "execution_count": 23,
   "id": "363ad20f",
   "metadata": {},
   "outputs": [
    {
     "name": "stdout",
     "output_type": "stream",
     "text": [
      "<class 'pandas.core.frame.DataFrame'>\n",
      "RangeIndex: 198 entries, 0 to 197\n",
      "Data columns (total 4 columns):\n",
      " #   Column          Non-Null Count  Dtype \n",
      "---  ------          --------------  ----- \n",
      " 0   Gender          198 non-null    object\n",
      " 1   Age             198 non-null    int64 \n",
      " 2   Annual Income   198 non-null    int64 \n",
      " 3   Spending Score  198 non-null    int64 \n",
      "dtypes: int64(3), object(1)\n",
      "memory usage: 6.3+ KB\n"
     ]
    }
   ],
   "source": [
    "df.info()"
   ]
  },
  {
   "cell_type": "markdown",
   "id": "70e1e369",
   "metadata": {},
   "source": [
    "## Checking for catogorical values"
   ]
  },
  {
   "cell_type": "code",
   "execution_count": 24,
   "id": "58733bab",
   "metadata": {},
   "outputs": [],
   "source": [
    "from sklearn.preprocessing import LabelEncoder"
   ]
  },
  {
   "cell_type": "code",
   "execution_count": 25,
   "id": "4a0f93d1",
   "metadata": {},
   "outputs": [],
   "source": [
    "le = LabelEncoder()"
   ]
  },
  {
   "cell_type": "code",
   "execution_count": 26,
   "id": "5c00485c",
   "metadata": {},
   "outputs": [],
   "source": [
    "df['Gender'] = le.fit_transform(df['Gender'])"
   ]
  },
  {
   "cell_type": "code",
   "execution_count": 27,
   "id": "223267e5",
   "metadata": {},
   "outputs": [
    {
     "data": {
      "text/html": [
       "<div>\n",
       "<style scoped>\n",
       "    .dataframe tbody tr th:only-of-type {\n",
       "        vertical-align: middle;\n",
       "    }\n",
       "\n",
       "    .dataframe tbody tr th {\n",
       "        vertical-align: top;\n",
       "    }\n",
       "\n",
       "    .dataframe thead th {\n",
       "        text-align: right;\n",
       "    }\n",
       "</style>\n",
       "<table border=\"1\" class=\"dataframe\">\n",
       "  <thead>\n",
       "    <tr style=\"text-align: right;\">\n",
       "      <th></th>\n",
       "      <th>Gender</th>\n",
       "      <th>Age</th>\n",
       "      <th>Annual Income</th>\n",
       "      <th>Spending Score</th>\n",
       "    </tr>\n",
       "  </thead>\n",
       "  <tbody>\n",
       "    <tr>\n",
       "      <th>0</th>\n",
       "      <td>1</td>\n",
       "      <td>19</td>\n",
       "      <td>15</td>\n",
       "      <td>39</td>\n",
       "    </tr>\n",
       "    <tr>\n",
       "      <th>1</th>\n",
       "      <td>1</td>\n",
       "      <td>21</td>\n",
       "      <td>15</td>\n",
       "      <td>81</td>\n",
       "    </tr>\n",
       "    <tr>\n",
       "      <th>2</th>\n",
       "      <td>0</td>\n",
       "      <td>20</td>\n",
       "      <td>16</td>\n",
       "      <td>6</td>\n",
       "    </tr>\n",
       "    <tr>\n",
       "      <th>3</th>\n",
       "      <td>0</td>\n",
       "      <td>23</td>\n",
       "      <td>16</td>\n",
       "      <td>77</td>\n",
       "    </tr>\n",
       "    <tr>\n",
       "      <th>4</th>\n",
       "      <td>0</td>\n",
       "      <td>31</td>\n",
       "      <td>17</td>\n",
       "      <td>40</td>\n",
       "    </tr>\n",
       "  </tbody>\n",
       "</table>\n",
       "</div>"
      ],
      "text/plain": [
       "   Gender  Age  Annual Income  Spending Score\n",
       "0       1   19             15              39\n",
       "1       1   21             15              81\n",
       "2       0   20             16               6\n",
       "3       0   23             16              77\n",
       "4       0   31             17              40"
      ]
     },
     "execution_count": 27,
     "metadata": {},
     "output_type": "execute_result"
    }
   ],
   "source": [
    "df.head()"
   ]
  },
  {
   "cell_type": "markdown",
   "id": "6deadc57",
   "metadata": {},
   "source": [
    "## Scaling Data"
   ]
  },
  {
   "cell_type": "code",
   "execution_count": 28,
   "id": "694f3ad9",
   "metadata": {},
   "outputs": [],
   "source": [
    "from sklearn.preprocessing import MinMaxScaler\n",
    "mms = MinMaxScaler()"
   ]
  },
  {
   "cell_type": "code",
   "execution_count": 29,
   "id": "5e978acf",
   "metadata": {},
   "outputs": [
    {
     "data": {
      "text/plain": [
       "array([[1.        , 0.01923077, 0.        , 0.3877551 ],\n",
       "       [1.        , 0.05769231, 0.        , 0.81632653],\n",
       "       [0.        , 0.03846154, 0.00900901, 0.05102041],\n",
       "       [0.        , 0.09615385, 0.00900901, 0.7755102 ],\n",
       "       [0.        , 0.25      , 0.01801802, 0.39795918],\n",
       "       [0.        , 0.07692308, 0.01801802, 0.76530612],\n",
       "       [0.        , 0.32692308, 0.02702703, 0.05102041],\n",
       "       [0.        , 0.09615385, 0.02702703, 0.94897959],\n",
       "       [1.        , 0.88461538, 0.03603604, 0.02040816],\n",
       "       [0.        , 0.23076923, 0.03603604, 0.7244898 ],\n",
       "       [1.        , 0.94230769, 0.03603604, 0.13265306],\n",
       "       [0.        , 0.32692308, 0.03603604, 1.        ],\n",
       "       [0.        , 0.76923077, 0.04504505, 0.14285714],\n",
       "       [0.        , 0.11538462, 0.04504505, 0.7755102 ],\n",
       "       [1.        , 0.36538462, 0.04504505, 0.12244898],\n",
       "       [1.        , 0.07692308, 0.04504505, 0.79591837],\n",
       "       [0.        , 0.32692308, 0.05405405, 0.34693878],\n",
       "       [1.        , 0.03846154, 0.05405405, 0.66326531],\n",
       "       [1.        , 0.65384615, 0.07207207, 0.28571429],\n",
       "       [0.        , 0.32692308, 0.07207207, 0.98979592],\n",
       "       [1.        , 0.32692308, 0.08108108, 0.34693878],\n",
       "       [1.        , 0.13461538, 0.08108108, 0.73469388],\n",
       "       [0.        , 0.53846154, 0.09009009, 0.04081633],\n",
       "       [1.        , 0.25      , 0.09009009, 0.73469388],\n",
       "       [0.        , 0.69230769, 0.11711712, 0.13265306],\n",
       "       [1.        , 0.21153846, 0.11711712, 0.82653061],\n",
       "       [0.        , 0.51923077, 0.11711712, 0.31632653],\n",
       "       [1.        , 0.32692308, 0.11711712, 0.6122449 ],\n",
       "       [0.        , 0.42307692, 0.12612613, 0.30612245],\n",
       "       [0.        , 0.09615385, 0.12612613, 0.87755102],\n",
       "       [1.        , 0.80769231, 0.13513514, 0.03061224],\n",
       "       [0.        , 0.05769231, 0.13513514, 0.73469388],\n",
       "       [1.        , 0.67307692, 0.16216216, 0.03061224],\n",
       "       [1.        , 0.        , 0.16216216, 0.92857143],\n",
       "       [0.        , 0.59615385, 0.16216216, 0.13265306],\n",
       "       [0.        , 0.05769231, 0.16216216, 0.81632653],\n",
       "       [0.        , 0.46153846, 0.17117117, 0.16326531],\n",
       "       [0.        , 0.23076923, 0.17117117, 0.73469388],\n",
       "       [0.        , 0.34615385, 0.1981982 , 0.25510204],\n",
       "       [0.        , 0.03846154, 0.1981982 , 0.75510204],\n",
       "       [0.        , 0.90384615, 0.20720721, 0.34693878],\n",
       "       [1.        , 0.11538462, 0.20720721, 0.92857143],\n",
       "       [1.        , 0.57692308, 0.21621622, 0.35714286],\n",
       "       [0.        , 0.25      , 0.21621622, 0.6122449 ],\n",
       "       [0.        , 0.59615385, 0.21621622, 0.2755102 ],\n",
       "       [0.        , 0.11538462, 0.21621622, 0.65306122],\n",
       "       [0.        , 0.61538462, 0.22522523, 0.55102041],\n",
       "       [0.        , 0.17307692, 0.22522523, 0.46938776],\n",
       "       [0.        , 0.21153846, 0.22522523, 0.41836735],\n",
       "       [0.        , 0.25      , 0.22522523, 0.41836735],\n",
       "       [0.        , 0.59615385, 0.24324324, 0.52040816],\n",
       "       [1.        , 0.28846154, 0.24324324, 0.60204082],\n",
       "       [0.        , 0.25      , 0.25225225, 0.54081633],\n",
       "       [1.        , 0.78846154, 0.25225225, 0.60204082],\n",
       "       [0.        , 0.61538462, 0.25225225, 0.44897959],\n",
       "       [1.        , 0.55769231, 0.25225225, 0.40816327],\n",
       "       [0.        , 0.63461538, 0.26126126, 0.5       ],\n",
       "       [1.        , 0.98076923, 0.26126126, 0.45918367],\n",
       "       [0.        , 0.17307692, 0.27927928, 0.51020408],\n",
       "       [1.        , 0.67307692, 0.27927928, 0.45918367],\n",
       "       [1.        , 1.        , 0.27927928, 0.56122449],\n",
       "       [1.        , 0.01923077, 0.27927928, 0.55102041],\n",
       "       [0.        , 0.94230769, 0.28828829, 0.52040816],\n",
       "       [0.        , 0.69230769, 0.28828829, 0.59183673],\n",
       "       [1.        , 0.86538462, 0.2972973 , 0.51020408],\n",
       "       [1.        , 0.        , 0.2972973 , 0.59183673],\n",
       "       [0.        , 0.48076923, 0.2972973 , 0.5       ],\n",
       "       [0.        , 0.96153846, 0.2972973 , 0.47959184],\n",
       "       [1.        , 0.01923077, 0.2972973 , 0.59183673],\n",
       "       [0.        , 0.26923077, 0.2972973 , 0.46938776],\n",
       "       [1.        , 1.        , 0.30630631, 0.55102041],\n",
       "       [0.        , 0.55769231, 0.30630631, 0.41836735],\n",
       "       [0.        , 0.80769231, 0.31531532, 0.48979592],\n",
       "       [0.        , 0.80769231, 0.31531532, 0.56122449],\n",
       "       [1.        , 0.78846154, 0.35135135, 0.46938776],\n",
       "       [1.        , 0.15384615, 0.35135135, 0.54081633],\n",
       "       [0.        , 0.51923077, 0.35135135, 0.53061224],\n",
       "       [1.        , 0.42307692, 0.35135135, 0.47959184],\n",
       "       [0.        , 0.09615385, 0.35135135, 0.52040816],\n",
       "       [0.        , 0.59615385, 0.35135135, 0.41836735],\n",
       "       [1.        , 0.75      , 0.35135135, 0.51020408],\n",
       "       [1.        , 0.38461538, 0.35135135, 0.55102041],\n",
       "       [1.        , 0.94230769, 0.35135135, 0.40816327],\n",
       "       [0.        , 0.53846154, 0.35135135, 0.43877551],\n",
       "       [0.        , 0.05769231, 0.35135135, 0.57142857],\n",
       "       [1.        , 0.57692308, 0.35135135, 0.45918367],\n",
       "       [0.        , 0.71153846, 0.37837838, 0.58163265],\n",
       "       [0.        , 0.07692308, 0.37837838, 0.55102041],\n",
       "       [0.        , 0.30769231, 0.38738739, 0.60204082],\n",
       "       [0.        , 0.61538462, 0.38738739, 0.45918367],\n",
       "       [0.        , 0.96153846, 0.3963964 , 0.55102041],\n",
       "       [1.        , 0.        , 0.3963964 , 0.40816327],\n",
       "       [1.        , 0.57692308, 0.40540541, 0.48979592],\n",
       "       [0.        , 0.42307692, 0.40540541, 0.39795918],\n",
       "       [0.        , 0.26923077, 0.40540541, 0.41836735],\n",
       "       [1.        , 0.11538462, 0.40540541, 0.52040816],\n",
       "       [0.        , 0.55769231, 0.40540541, 0.46938776],\n",
       "       [0.        , 0.17307692, 0.40540541, 0.5       ],\n",
       "       [1.        , 0.57692308, 0.41441441, 0.41836735],\n",
       "       [1.        , 0.03846154, 0.41441441, 0.48979592],\n",
       "       [0.        , 0.09615385, 0.42342342, 0.40816327],\n",
       "       [0.        , 0.59615385, 0.42342342, 0.47959184],\n",
       "       [1.        , 0.94230769, 0.42342342, 0.59183673],\n",
       "       [1.        , 0.15384615, 0.42342342, 0.55102041],\n",
       "       [1.        , 0.59615385, 0.42342342, 0.56122449],\n",
       "       [0.        , 0.05769231, 0.42342342, 0.41836735],\n",
       "       [0.        , 0.92307692, 0.43243243, 0.5       ],\n",
       "       [1.        , 0.69230769, 0.43243243, 0.45918367],\n",
       "       [1.        , 0.96153846, 0.43243243, 0.42857143],\n",
       "       [1.        , 0.92307692, 0.43243243, 0.47959184],\n",
       "       [1.        , 0.90384615, 0.43243243, 0.52040816],\n",
       "       [0.        , 0.01923077, 0.43243243, 0.54081633],\n",
       "       [0.        , 0.38461538, 0.44144144, 0.41836735],\n",
       "       [1.        , 0.01923077, 0.44144144, 0.45918367],\n",
       "       [0.        , 0.        , 0.45045045, 0.47959184],\n",
       "       [0.        , 0.01923077, 0.45045045, 0.5       ],\n",
       "       [0.        , 0.86538462, 0.45045045, 0.42857143],\n",
       "       [0.        , 0.59615385, 0.45045045, 0.59183673],\n",
       "       [0.        , 0.63461538, 0.46846847, 0.42857143],\n",
       "       [0.        , 0.61538462, 0.46846847, 0.57142857],\n",
       "       [1.        , 0.17307692, 0.46846847, 0.56122449],\n",
       "       [0.        , 0.38461538, 0.46846847, 0.39795918],\n",
       "       [0.        , 0.42307692, 0.48648649, 0.58163265],\n",
       "       [1.        , 0.40384615, 0.48648649, 0.91836735],\n",
       "       [0.        , 0.09615385, 0.4954955 , 0.28571429],\n",
       "       [0.        , 0.25      , 0.4954955 , 0.7755102 ],\n",
       "       [1.        , 0.48076923, 0.5045045 , 0.34693878],\n",
       "       [1.        , 0.42307692, 0.5045045 , 0.95918367],\n",
       "       [1.        , 0.78846154, 0.5045045 , 0.10204082],\n",
       "       [1.        , 0.38461538, 0.5045045 , 0.75510204],\n",
       "       [1.        , 0.55769231, 0.5045045 , 0.08163265],\n",
       "       [1.        , 0.40384615, 0.5045045 , 0.75510204],\n",
       "       [0.        , 0.13461538, 0.51351351, 0.33673469],\n",
       "       [0.        , 0.25      , 0.51351351, 0.71428571],\n",
       "       [1.        , 0.03846154, 0.52252252, 0.04081633],\n",
       "       [0.        , 0.21153846, 0.52252252, 0.8877551 ],\n",
       "       [0.        , 0.5       , 0.52252252, 0.06122449],\n",
       "       [1.        , 0.26923077, 0.52252252, 0.73469388],\n",
       "       [1.        , 0.01923077, 0.53153153, 0.09183673],\n",
       "       [0.        , 0.32692308, 0.53153153, 0.7244898 ],\n",
       "       [0.        , 0.75      , 0.54054054, 0.04081633],\n",
       "       [1.        , 0.26923077, 0.54054054, 0.93877551],\n",
       "       [0.        , 0.19230769, 0.54954955, 0.39795918],\n",
       "       [0.        , 0.26923077, 0.54954955, 0.87755102],\n",
       "       [1.        , 0.13461538, 0.55855856, 0.1122449 ],\n",
       "       [1.        , 0.19230769, 0.55855856, 0.97959184],\n",
       "       [1.        , 0.57692308, 0.55855856, 0.35714286],\n",
       "       [0.        , 0.26923077, 0.55855856, 0.74489796],\n",
       "       [0.        , 0.30769231, 0.56756757, 0.21428571],\n",
       "       [1.        , 0.30769231, 0.56756757, 0.90816327],\n",
       "       [1.        , 0.48076923, 0.56756757, 0.16326531],\n",
       "       [1.        , 0.40384615, 0.56756757, 0.8877551 ],\n",
       "       [0.        , 0.5       , 0.56756757, 0.19387755],\n",
       "       [0.        , 0.38461538, 0.56756757, 0.76530612],\n",
       "       [0.        , 0.55769231, 0.56756757, 0.15306122],\n",
       "       [0.        , 0.17307692, 0.56756757, 0.89795918],\n",
       "       [1.        , 0.36538462, 0.56756757, 0.        ],\n",
       "       [0.        , 0.23076923, 0.56756757, 0.78571429],\n",
       "       [1.        , 0.30769231, 0.56756757, 0.        ],\n",
       "       [0.        , 0.23076923, 0.56756757, 0.73469388],\n",
       "       [0.        , 0.73076923, 0.57657658, 0.34693878],\n",
       "       [0.        , 0.21153846, 0.57657658, 0.83673469],\n",
       "       [1.        , 0.01923077, 0.59459459, 0.04081633],\n",
       "       [0.        , 0.25      , 0.59459459, 0.93877551],\n",
       "       [1.        , 0.61538462, 0.63063063, 0.25510204],\n",
       "       [0.        , 0.34615385, 0.63063063, 0.75510204],\n",
       "       [1.        , 0.46153846, 0.63963964, 0.19387755],\n",
       "       [0.        , 0.28846154, 0.63963964, 0.95918367],\n",
       "       [0.        , 0.34615385, 0.64864865, 0.26530612],\n",
       "       [1.        , 0.26923077, 0.64864865, 0.63265306],\n",
       "       [1.        , 0.42307692, 0.64864865, 0.12244898],\n",
       "       [1.        , 0.19230769, 0.64864865, 0.75510204],\n",
       "       [1.        , 0.34615385, 0.64864865, 0.09183673],\n",
       "       [1.        , 0.34615385, 0.64864865, 0.92857143],\n",
       "       [0.        , 0.65384615, 0.65765766, 0.12244898],\n",
       "       [0.        , 0.23076923, 0.65765766, 0.86734694],\n",
       "       [1.        , 0.76923077, 0.65765766, 0.14285714],\n",
       "       [1.        , 0.17307692, 0.65765766, 0.69387755],\n",
       "       [1.        , 0.78846154, 0.7027027 , 0.13265306],\n",
       "       [1.        , 0.32692308, 0.7027027 , 0.90816327],\n",
       "       [0.        , 0.36538462, 0.73873874, 0.31632653],\n",
       "       [0.        , 0.26923077, 0.73873874, 0.86734694],\n",
       "       [1.        , 0.53846154, 0.74774775, 0.14285714],\n",
       "       [0.        , 0.21153846, 0.74774775, 0.8877551 ],\n",
       "       [0.        , 0.44230769, 0.75675676, 0.3877551 ],\n",
       "       [1.        , 0.23076923, 0.75675676, 0.97959184],\n",
       "       [0.        , 0.69230769, 0.77477477, 0.23469388],\n",
       "       [1.        , 0.19230769, 0.77477477, 0.68367347],\n",
       "       [0.        , 0.44230769, 0.79279279, 0.16326531],\n",
       "       [0.        , 0.34615385, 0.79279279, 0.85714286],\n",
       "       [0.        , 0.30769231, 0.79279279, 0.2244898 ],\n",
       "       [0.        , 0.26923077, 0.79279279, 0.69387755],\n",
       "       [1.        , 0.28846154, 0.88288288, 0.07142857],\n",
       "       [0.        , 0.38461538, 0.88288288, 0.91836735],\n",
       "       [0.        , 0.55769231, 0.94594595, 0.15306122],\n",
       "       [0.        , 0.32692308, 0.94594595, 0.79591837],\n",
       "       [0.        , 0.51923077, 1.        , 0.2755102 ],\n",
       "       [1.        , 0.26923077, 1.        , 0.74489796]])"
      ]
     },
     "execution_count": 29,
     "metadata": {},
     "output_type": "execute_result"
    }
   ],
   "source": [
    "df_scaled = mms.fit_transform(df)\n",
    "df_scaled"
   ]
  },
  {
   "cell_type": "code",
   "execution_count": 30,
   "id": "ce53053c",
   "metadata": {},
   "outputs": [
    {
     "data": {
      "text/plain": [
       "(198, 4)"
      ]
     },
     "execution_count": 30,
     "metadata": {},
     "output_type": "execute_result"
    }
   ],
   "source": [
    "df_scaled.shape"
   ]
  },
  {
   "cell_type": "markdown",
   "id": "520ebcd3",
   "metadata": {},
   "source": [
    "## Performing clustering"
   ]
  },
  {
   "cell_type": "code",
   "execution_count": 31,
   "id": "ce697059",
   "metadata": {},
   "outputs": [],
   "source": [
    "from sklearn.cluster import KMeans\n",
    "km = KMeans(n_clusters = 5)\n",
    "cluster = km.fit_predict(df_scaled)"
   ]
  },
  {
   "cell_type": "code",
   "execution_count": 32,
   "id": "919be2ac",
   "metadata": {},
   "outputs": [
    {
     "data": {
      "text/plain": [
       "array([4, 4, 3, 2, 2, 2, 3, 2, 1, 2, 1, 2, 3, 2, 1, 4, 3, 4, 1, 2, 1, 4,\n",
       "       3, 4, 3, 4, 3, 4, 3, 2, 1, 2, 1, 4, 3, 2, 3, 2, 3, 2, 3, 4, 1, 2,\n",
       "       3, 2, 3, 2, 2, 2, 3, 4, 2, 1, 3, 1, 3, 1, 2, 1, 1, 4, 3, 3, 1, 4,\n",
       "       3, 3, 4, 2, 1, 3, 3, 3, 1, 4, 3, 4, 2, 3, 1, 4, 1, 3, 2, 1, 3, 2,\n",
       "       2, 3, 3, 4, 1, 3, 2, 4, 3, 2, 1, 4, 2, 3, 1, 4, 1, 2, 3, 1, 1, 1,\n",
       "       1, 2, 3, 4, 2, 2, 3, 3, 3, 3, 4, 3, 2, 4, 2, 2, 0, 4, 1, 4, 0, 4,\n",
       "       2, 2, 0, 2, 3, 4, 0, 2, 3, 4, 2, 2, 0, 4, 0, 2, 3, 4, 0, 4, 3, 2,\n",
       "       3, 2, 0, 2, 0, 2, 3, 2, 0, 2, 0, 2, 0, 2, 3, 4, 0, 4, 0, 4, 3, 2,\n",
       "       0, 4, 0, 4, 3, 2, 0, 2, 3, 4, 3, 4, 3, 2, 3, 2, 0, 2, 3, 2, 3, 4])"
      ]
     },
     "execution_count": 32,
     "metadata": {},
     "output_type": "execute_result"
    }
   ],
   "source": [
    "cluster"
   ]
  },
  {
   "cell_type": "code",
   "execution_count": 33,
   "id": "0fd280d4",
   "metadata": {},
   "outputs": [
    {
     "data": {
      "text/plain": [
       "array([0, 1, 2, 3, 4])"
      ]
     },
     "execution_count": 33,
     "metadata": {},
     "output_type": "execute_result"
    }
   ],
   "source": [
    "np.unique(cluster)"
   ]
  },
  {
   "cell_type": "code",
   "execution_count": 34,
   "id": "697f8c3d",
   "metadata": {},
   "outputs": [
    {
     "data": {
      "text/plain": [
       "(198,)"
      ]
     },
     "execution_count": 34,
     "metadata": {},
     "output_type": "execute_result"
    }
   ],
   "source": [
    "cluster.shape"
   ]
  },
  {
   "cell_type": "markdown",
   "id": "67fa65dc",
   "metadata": {},
   "source": [
    "## Adding cluster data with primary data"
   ]
  },
  {
   "cell_type": "code",
   "execution_count": 35,
   "id": "1eed3248",
   "metadata": {},
   "outputs": [
    {
     "data": {
      "text/html": [
       "<div>\n",
       "<style scoped>\n",
       "    .dataframe tbody tr th:only-of-type {\n",
       "        vertical-align: middle;\n",
       "    }\n",
       "\n",
       "    .dataframe tbody tr th {\n",
       "        vertical-align: top;\n",
       "    }\n",
       "\n",
       "    .dataframe thead th {\n",
       "        text-align: right;\n",
       "    }\n",
       "</style>\n",
       "<table border=\"1\" class=\"dataframe\">\n",
       "  <thead>\n",
       "    <tr style=\"text-align: right;\">\n",
       "      <th></th>\n",
       "      <th>Gender</th>\n",
       "      <th>Age</th>\n",
       "      <th>Annual Income</th>\n",
       "      <th>Spending Score</th>\n",
       "    </tr>\n",
       "  </thead>\n",
       "  <tbody>\n",
       "    <tr>\n",
       "      <th>0</th>\n",
       "      <td>1.0</td>\n",
       "      <td>0.019231</td>\n",
       "      <td>0.000000</td>\n",
       "      <td>0.387755</td>\n",
       "    </tr>\n",
       "    <tr>\n",
       "      <th>1</th>\n",
       "      <td>1.0</td>\n",
       "      <td>0.057692</td>\n",
       "      <td>0.000000</td>\n",
       "      <td>0.816327</td>\n",
       "    </tr>\n",
       "    <tr>\n",
       "      <th>2</th>\n",
       "      <td>0.0</td>\n",
       "      <td>0.038462</td>\n",
       "      <td>0.009009</td>\n",
       "      <td>0.051020</td>\n",
       "    </tr>\n",
       "    <tr>\n",
       "      <th>3</th>\n",
       "      <td>0.0</td>\n",
       "      <td>0.096154</td>\n",
       "      <td>0.009009</td>\n",
       "      <td>0.775510</td>\n",
       "    </tr>\n",
       "    <tr>\n",
       "      <th>4</th>\n",
       "      <td>0.0</td>\n",
       "      <td>0.250000</td>\n",
       "      <td>0.018018</td>\n",
       "      <td>0.397959</td>\n",
       "    </tr>\n",
       "  </tbody>\n",
       "</table>\n",
       "</div>"
      ],
      "text/plain": [
       "   Gender       Age  Annual Income  Spending Score\n",
       "0     1.0  0.019231       0.000000        0.387755\n",
       "1     1.0  0.057692       0.000000        0.816327\n",
       "2     0.0  0.038462       0.009009        0.051020\n",
       "3     0.0  0.096154       0.009009        0.775510\n",
       "4     0.0  0.250000       0.018018        0.397959"
      ]
     },
     "execution_count": 35,
     "metadata": {},
     "output_type": "execute_result"
    }
   ],
   "source": [
    "names = df.columns\n",
    "new_df = pd.DataFrame(df_scaled, columns = names)\n",
    "new_df.head()"
   ]
  },
  {
   "cell_type": "code",
   "execution_count": 36,
   "id": "585278e5",
   "metadata": {},
   "outputs": [
    {
     "data": {
      "text/html": [
       "<div>\n",
       "<style scoped>\n",
       "    .dataframe tbody tr th:only-of-type {\n",
       "        vertical-align: middle;\n",
       "    }\n",
       "\n",
       "    .dataframe tbody tr th {\n",
       "        vertical-align: top;\n",
       "    }\n",
       "\n",
       "    .dataframe thead th {\n",
       "        text-align: right;\n",
       "    }\n",
       "</style>\n",
       "<table border=\"1\" class=\"dataframe\">\n",
       "  <thead>\n",
       "    <tr style=\"text-align: right;\">\n",
       "      <th></th>\n",
       "      <th>Gender</th>\n",
       "      <th>Age</th>\n",
       "      <th>Annual Income</th>\n",
       "      <th>Spending Score</th>\n",
       "      <th>clus</th>\n",
       "    </tr>\n",
       "  </thead>\n",
       "  <tbody>\n",
       "    <tr>\n",
       "      <th>0</th>\n",
       "      <td>1.0</td>\n",
       "      <td>0.019231</td>\n",
       "      <td>0.000000</td>\n",
       "      <td>0.387755</td>\n",
       "      <td>4</td>\n",
       "    </tr>\n",
       "    <tr>\n",
       "      <th>1</th>\n",
       "      <td>1.0</td>\n",
       "      <td>0.057692</td>\n",
       "      <td>0.000000</td>\n",
       "      <td>0.816327</td>\n",
       "      <td>4</td>\n",
       "    </tr>\n",
       "    <tr>\n",
       "      <th>2</th>\n",
       "      <td>0.0</td>\n",
       "      <td>0.038462</td>\n",
       "      <td>0.009009</td>\n",
       "      <td>0.051020</td>\n",
       "      <td>3</td>\n",
       "    </tr>\n",
       "    <tr>\n",
       "      <th>3</th>\n",
       "      <td>0.0</td>\n",
       "      <td>0.096154</td>\n",
       "      <td>0.009009</td>\n",
       "      <td>0.775510</td>\n",
       "      <td>2</td>\n",
       "    </tr>\n",
       "    <tr>\n",
       "      <th>4</th>\n",
       "      <td>0.0</td>\n",
       "      <td>0.250000</td>\n",
       "      <td>0.018018</td>\n",
       "      <td>0.397959</td>\n",
       "      <td>2</td>\n",
       "    </tr>\n",
       "  </tbody>\n",
       "</table>\n",
       "</div>"
      ],
      "text/plain": [
       "   Gender       Age  Annual Income  Spending Score  clus\n",
       "0     1.0  0.019231       0.000000        0.387755     4\n",
       "1     1.0  0.057692       0.000000        0.816327     4\n",
       "2     0.0  0.038462       0.009009        0.051020     3\n",
       "3     0.0  0.096154       0.009009        0.775510     2\n",
       "4     0.0  0.250000       0.018018        0.397959     2"
      ]
     },
     "execution_count": 36,
     "metadata": {},
     "output_type": "execute_result"
    }
   ],
   "source": [
    "new_df['clus'] = pd.Series(cluster)\n",
    "new_df.head()"
   ]
  },
  {
   "cell_type": "markdown",
   "id": "62f33e5f",
   "metadata": {},
   "source": [
    "## Splitting data into dependent and independent variables"
   ]
  },
  {
   "cell_type": "code",
   "execution_count": 37,
   "id": "28565b93",
   "metadata": {},
   "outputs": [],
   "source": [
    "X = new_df.iloc[:,:4]\n",
    "y = new_df.iloc[:,4:]"
   ]
  },
  {
   "cell_type": "code",
   "execution_count": 38,
   "id": "bccad2e6",
   "metadata": {},
   "outputs": [
    {
     "data": {
      "text/plain": [
       "(198, 4)"
      ]
     },
     "execution_count": 38,
     "metadata": {},
     "output_type": "execute_result"
    }
   ],
   "source": [
    "X.shape"
   ]
  },
  {
   "cell_type": "code",
   "execution_count": 39,
   "id": "3c61e91f",
   "metadata": {},
   "outputs": [
    {
     "data": {
      "text/plain": [
       "(198, 1)"
      ]
     },
     "execution_count": 39,
     "metadata": {},
     "output_type": "execute_result"
    }
   ],
   "source": [
    "y.shape"
   ]
  },
  {
   "cell_type": "markdown",
   "id": "69a7c216",
   "metadata": {},
   "source": [
    "## Splitting into training and testing datasets"
   ]
  },
  {
   "cell_type": "code",
   "execution_count": 40,
   "id": "91fdb2e2",
   "metadata": {},
   "outputs": [],
   "source": [
    "from sklearn.model_selection import train_test_split\n",
    "X_train,X_test,y_train,y_test = train_test_split(X,y,test_size=0.25,random_state=1)"
   ]
  },
  {
   "cell_type": "code",
   "execution_count": 41,
   "id": "9c8d15b5",
   "metadata": {},
   "outputs": [
    {
     "data": {
      "text/plain": [
       "(148, 4)"
      ]
     },
     "execution_count": 41,
     "metadata": {},
     "output_type": "execute_result"
    }
   ],
   "source": [
    "X_train.shape"
   ]
  },
  {
   "cell_type": "code",
   "execution_count": 42,
   "id": "f0b7f389",
   "metadata": {},
   "outputs": [
    {
     "data": {
      "text/plain": [
       "(148, 1)"
      ]
     },
     "execution_count": 42,
     "metadata": {},
     "output_type": "execute_result"
    }
   ],
   "source": [
    "y_train.shape"
   ]
  },
  {
   "cell_type": "code",
   "execution_count": 43,
   "id": "7a30cc7b",
   "metadata": {},
   "outputs": [
    {
     "data": {
      "text/plain": [
       "(50, 4)"
      ]
     },
     "execution_count": 43,
     "metadata": {},
     "output_type": "execute_result"
    }
   ],
   "source": [
    "X_test.shape"
   ]
  },
  {
   "cell_type": "code",
   "execution_count": 44,
   "id": "f49a28fb",
   "metadata": {},
   "outputs": [
    {
     "data": {
      "text/plain": [
       "(50, 1)"
      ]
     },
     "execution_count": 44,
     "metadata": {},
     "output_type": "execute_result"
    }
   ],
   "source": [
    "y_test.shape"
   ]
  },
  {
   "cell_type": "markdown",
   "id": "6cb8ae61",
   "metadata": {},
   "source": [
    "## Building the model"
   ]
  },
  {
   "cell_type": "code",
   "execution_count": 45,
   "id": "988f205b",
   "metadata": {},
   "outputs": [],
   "source": [
    "from sklearn.svm import SVC\n",
    "svm = SVC(kernel = 'linear')"
   ]
  },
  {
   "cell_type": "markdown",
   "id": "64e40f3b",
   "metadata": {},
   "source": [
    "## Train the model"
   ]
  },
  {
   "cell_type": "code",
   "execution_count": 46,
   "id": "c0bf6286",
   "metadata": {},
   "outputs": [
    {
     "name": "stderr",
     "output_type": "stream",
     "text": [
      "C:\\Users\\USER\\anaconda3\\lib\\site-packages\\sklearn\\utils\\validation.py:993: DataConversionWarning: A column-vector y was passed when a 1d array was expected. Please change the shape of y to (n_samples, ), for example using ravel().\n",
      "  y = column_or_1d(y, warn=True)\n"
     ]
    },
    {
     "data": {
      "text/plain": [
       "SVC(kernel='linear')"
      ]
     },
     "execution_count": 46,
     "metadata": {},
     "output_type": "execute_result"
    }
   ],
   "source": [
    "svm.fit(X_train,y_train)"
   ]
  },
  {
   "cell_type": "markdown",
   "id": "774d8f28",
   "metadata": {},
   "source": [
    "## Test the model"
   ]
  },
  {
   "cell_type": "code",
   "execution_count": 47,
   "id": "896fd9c2",
   "metadata": {},
   "outputs": [
    {
     "data": {
      "text/plain": [
       "array([2, 3, 3, 3, 4, 0, 4, 2, 2, 2, 1, 1, 2, 2, 2, 3, 2, 2, 1, 2, 4, 3,\n",
       "       3, 3, 2, 3, 3, 3, 4, 4, 2, 0, 1, 2, 3, 2, 3, 0, 2, 3, 1, 3, 3, 1,\n",
       "       4, 2, 3, 2, 2, 4])"
      ]
     },
     "execution_count": 47,
     "metadata": {},
     "output_type": "execute_result"
    }
   ],
   "source": [
    "pred_test = svm.predict(X_test)\n",
    "pred_test"
   ]
  },
  {
   "cell_type": "code",
   "execution_count": 48,
   "id": "eca0037e",
   "metadata": {},
   "outputs": [
    {
     "data": {
      "text/html": [
       "<div>\n",
       "<style scoped>\n",
       "    .dataframe tbody tr th:only-of-type {\n",
       "        vertical-align: middle;\n",
       "    }\n",
       "\n",
       "    .dataframe tbody tr th {\n",
       "        vertical-align: top;\n",
       "    }\n",
       "\n",
       "    .dataframe thead th {\n",
       "        text-align: right;\n",
       "    }\n",
       "</style>\n",
       "<table border=\"1\" class=\"dataframe\">\n",
       "  <thead>\n",
       "    <tr style=\"text-align: right;\">\n",
       "      <th></th>\n",
       "      <th>clus</th>\n",
       "    </tr>\n",
       "  </thead>\n",
       "  <tbody>\n",
       "    <tr>\n",
       "      <th>175</th>\n",
       "      <td>2</td>\n",
       "    </tr>\n",
       "    <tr>\n",
       "      <th>40</th>\n",
       "      <td>3</td>\n",
       "    </tr>\n",
       "    <tr>\n",
       "      <th>34</th>\n",
       "      <td>3</td>\n",
       "    </tr>\n",
       "    <tr>\n",
       "      <th>90</th>\n",
       "      <td>3</td>\n",
       "    </tr>\n",
       "    <tr>\n",
       "      <th>145</th>\n",
       "      <td>4</td>\n",
       "    </tr>\n",
       "  </tbody>\n",
       "</table>\n",
       "</div>"
      ],
      "text/plain": [
       "     clus\n",
       "175     2\n",
       "40      3\n",
       "34      3\n",
       "90      3\n",
       "145     4"
      ]
     },
     "execution_count": 48,
     "metadata": {},
     "output_type": "execute_result"
    }
   ],
   "source": [
    "y_test.head()"
   ]
  },
  {
   "cell_type": "markdown",
   "id": "16ac17e0",
   "metadata": {},
   "source": [
    "## Evaluation Metrics"
   ]
  },
  {
   "cell_type": "code",
   "execution_count": 49,
   "id": "bafbf617",
   "metadata": {},
   "outputs": [
    {
     "data": {
      "text/plain": [
       "1.0"
      ]
     },
     "execution_count": 49,
     "metadata": {},
     "output_type": "execute_result"
    }
   ],
   "source": [
    "from sklearn.metrics import accuracy_score, confusion_matrix\n",
    "accuracy_score(pred_test,y_test)"
   ]
  },
  {
   "cell_type": "code",
   "execution_count": 50,
   "id": "dc019511",
   "metadata": {},
   "outputs": [
    {
     "data": {
      "text/plain": [
       "array([[ 3,  0,  0,  0,  0],\n",
       "       [ 0,  6,  0,  0,  0],\n",
       "       [ 0,  0, 18,  0,  0],\n",
       "       [ 0,  0,  0, 16,  0],\n",
       "       [ 0,  0,  0,  0,  7]], dtype=int64)"
      ]
     },
     "execution_count": 50,
     "metadata": {},
     "output_type": "execute_result"
    }
   ],
   "source": [
    "confusion_matrix(pred_test,y_test)"
   ]
  }
 ],
 "metadata": {
  "kernelspec": {
   "display_name": "Python 3 (ipykernel)",
   "language": "python",
   "name": "python3"
  },
  "language_info": {
   "codemirror_mode": {
    "name": "ipython",
    "version": 3
   },
   "file_extension": ".py",
   "mimetype": "text/x-python",
   "name": "python",
   "nbconvert_exporter": "python",
   "pygments_lexer": "ipython3",
   "version": "3.9.12"
  }
 },
 "nbformat": 4,
 "nbformat_minor": 5
}
